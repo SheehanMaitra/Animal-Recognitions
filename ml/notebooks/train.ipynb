{
 "cells": [
  {
   "cell_type": "markdown",
   "metadata": {},
   "source": []
  },
  {
   "cell_type": "markdown",
   "metadata": {},
   "source": [
    "# Pytorch Datasets\n",
    "\n",
    "Goal: Setting up pytorch with the datasets so it will train to identify a dog or cat"
   ]
  },
  {
   "cell_type": "code",
   "execution_count": 42,
   "metadata": {},
   "outputs": [],
   "source": [
    "import torch\n",
    "import torch.nn as nn\n",
    "import torch.optim as optim\n",
    "from torch.utils.data import DataLoader, Dataset\n",
    "import torchvision.transforms as transforms\n",
    "from torchvision.datasets import ImageFolder\n",
    "import timm\n",
    "import random\n",
    "\n",
    "# for visualization\n",
    "import matplotlib.pyplot as plt\n",
    "import pandas as pd\n",
    "import numpy as np"
   ]
  },
  {
   "cell_type": "code",
   "execution_count": 43,
   "metadata": {},
   "outputs": [
    {
     "name": "stdout",
     "output_type": "stream",
     "text": [
      "mps\n"
     ]
    }
   ],
   "source": [
    "device = torch.device(\"cpu\")\n",
    "if torch.backends.mps.is_built() and torch.backends.mps.is_available():\n",
    "    device = torch.device(\"mps\")\n",
    "print(device)"
   ]
  },
  {
   "cell_type": "markdown",
   "metadata": {},
   "source": [
    "### Creating Animals Class for pytorch to access"
   ]
  },
  {
   "cell_type": "markdown",
   "metadata": {},
   "source": []
  },
  {
   "cell_type": "code",
   "execution_count": 44,
   "metadata": {},
   "outputs": [],
   "source": [
    "class AnimalsDataset(Dataset):\n",
    "    def __init__(self, data_dir, transform=None):\n",
    "       self.data = ImageFolder(data_dir, transform=transform)\n",
    "        \n",
    "    def __len__(self):\n",
    "        return len(self.data)\n",
    "    \n",
    "    def __getitem__(self, idx):\n",
    "        return self.data[idx]\n",
    "    \n",
    "    @property\n",
    "    def classes(self):\n",
    "        return self.data.classes    "
   ]
  },
  {
   "cell_type": "code",
   "execution_count": 45,
   "metadata": {},
   "outputs": [
    {
     "name": "stdout",
     "output_type": "stream",
     "text": [
      "{0: 'cats', 1: 'dogs'}\n"
     ]
    }
   ],
   "source": [
    "dir = '../data/dataset/training_set'\n",
    "test = '../data/dataset/test_set'\n",
    "dataset = AnimalsDataset(dir)\n",
    "\n",
    "\n",
    "target_to_class = {v: k for k, v in ImageFolder(dir).class_to_idx.items()}\n",
    "print(target_to_class)"
   ]
  },
  {
   "cell_type": "code",
   "execution_count": 46,
   "metadata": {},
   "outputs": [],
   "source": [
    "transform = transforms.Compose([\n",
    "    transforms.Resize((128, 128)),\n",
    "    transforms.ToTensor(),\n",
    "    transforms.Normalize(\n",
    "        (0.5, 0.5, 0.5),\n",
    "        (0.5, 0.5, 0.5)\n",
    "    ),\n",
    "])\n",
    "dataset = AnimalsDataset(dir, transform=transform)\n",
    "i, l = dataset[2]\n",
    "i.shape\n",
    "\n",
    "testset = AnimalsDataset(test, transform=transform)"
   ]
  },
  {
   "cell_type": "markdown",
   "metadata": {},
   "source": [
    " ### Creating a dataloader"
   ]
  },
  {
   "cell_type": "code",
   "execution_count": 47,
   "metadata": {},
   "outputs": [],
   "source": [
    "dataloader = DataLoader(dataset, batch_size=16, shuffle=True)"
   ]
  },
  {
   "cell_type": "markdown",
   "metadata": {},
   "source": [
    "# Creating Pytorch Model"
   ]
  },
  {
   "cell_type": "code",
   "execution_count": 55,
   "metadata": {},
   "outputs": [],
   "source": [
    "class AnimalClassifer(nn.Module):\n",
    "    def __init__(self, num_classes=2):\n",
    "        super(AnimalClassifer, self).__init__()\n",
    "        self.base_model = timm.create_model('resnet18', pretrained=True)\n",
    "        self.features = nn.Sequential(*list(self.base_model.children())[:-2])\n",
    "        self.pool = nn.AdaptiveAvgPool2d(1)\n",
    "\n",
    "        outputs_size = 1000\n",
    "        # Classifier\n",
    "        self.classifier = nn.Linear(512, num_classes)\n",
    "\n",
    "    def forward(self, x):\n",
    "        x = self.features(x)\n",
    "        x = self.pool(x)\n",
    "        x = x.view(x.size(0), -1) #flattens tensor\n",
    "        out  = self.classifier(x)\n",
    "        return out\n",
    "   "
   ]
  },
  {
   "cell_type": "code",
   "execution_count": null,
   "metadata": {},
   "outputs": [
    {
     "name": "stdout",
     "output_type": "stream",
     "text": [
      "Epoch 1/10, Loss: 0.13607862896099687\n",
      "Epoch 2/10, Loss: 0.06842384100245545\n",
      "Epoch 3/10, Loss: 0.05142798589274753\n",
      "Epoch 4/10, Loss: 0.046247536426206354\n",
      "Epoch 5/10, Loss: 0.03689677447457507\n",
      "Epoch 6/10, Loss: 0.023924838125243694\n",
      "Epoch 7/10, Loss: 0.023326173225539606\n",
      "Epoch 8/10, Loss: 0.017114446324260825\n",
      "Epoch 9/10, Loss: 0.024323056338062088\n",
      "Epoch 10/10, Loss: 0.02256929282836154\n"
     ]
    }
   ],
   "source": [
    "train_model = AnimalClassifer(num_classes=2)\n",
    "criterion = nn.CrossEntropyLoss()  \n",
    "optimizer = optim.Adam(train_model.parameters(), lr=0.001)\n",
    "\n",
    "stop_training = True\n",
    "\n",
    "train_model = train_model.to(device)\n",
    "epochs = 10\n",
    "for epoch in range(epochs):\n",
    "    if stop_training:\n",
    "        print(\"Training stopped.\")\n",
    "        break\n",
    "    train_model.train()  #model in training mode\n",
    "    running_loss = 0.0\n",
    "\n",
    "    for images, labels in dataloader:\n",
    "        images, labels = images.to(device), labels.to(device)\n",
    "        optimizer.zero_grad()\n",
    "        \n",
    "        outputs = train_model(images)\n",
    "        loss = criterion(outputs, labels)\n",
    "        loss.backward()\n",
    "        optimizer.step()\n",
    "        \n",
    "        running_loss += loss.item()\n",
    "\n",
    "        if stop_training:\n",
    "            print(\"Stopping mid-epoch.\")\n",
    "            break\n",
    "    torch.save(train_model.state_dict(), f\"model_epoch_{epoch+1}.pth\")\n",
    "    print(f\"Epoch {epoch+1}/{epochs}, Loss: {running_loss/len(dataloader)}\")\n",
    "\n",
    "\n",
    "#best one was epoch 8 with lowest loss of 0.01711\n",
    "torch.save(train_model.state_dict(), \"best_model_epoch_8.pth\")\n",
    "\n"
   ]
  },
  {
   "cell_type": "code",
   "execution_count": 57,
   "metadata": {},
   "outputs": [
    {
     "name": "stdout",
     "output_type": "stream",
     "text": [
      "Test Accuracy: 98.99%\n"
     ]
    }
   ],
   "source": [
    "train_model.eval() \n",
    "correct = 0\n",
    "total = 0\n",
    "with torch.no_grad():\n",
    "    for images, labels in dataloader:\n",
    "        images, labels = images.to(device), labels.to(device)\n",
    "        outputs = train_model(images)\n",
    "        _, predicted = torch.max(outputs, 1)\n",
    "        total += labels.size(0)\n",
    "        correct += (predicted == labels).sum().item()\n",
    "print(f\"Test Accuracy: {100 * correct / total:.2f}%\")\n",
    "\n",
    "torch.save(train_model.state_dict(), \"animal_classifier_final.pth\")\n"
   ]
  },
  {
   "cell_type": "code",
   "execution_count": null,
   "metadata": {},
   "outputs": [],
   "source": [
    "misclassified_images = []\n",
    "train_model.eval()\n",
    "with torch.no_grad():\n",
    "    for images, labels in dataloader:\n",
    "        images, labels = images.to(device), labels.to(device)\n",
    "        outputs = train_model(images)\n",
    "        _, predicted = torch.max(outputs, 1)\n",
    "        for i in range(len(labels)):\n",
    "            if predicted[i] != labels[i]:\n",
    "                misclassified_images.append((images[i], labels[i], predicted[i]))"
   ]
  }
 ],
 "metadata": {
  "kernelspec": {
   "display_name": "pet_finder",
   "language": "python",
   "name": "python3"
  },
  "language_info": {
   "codemirror_mode": {
    "name": "ipython",
    "version": 3
   },
   "file_extension": ".py",
   "mimetype": "text/x-python",
   "name": "python",
   "nbconvert_exporter": "python",
   "pygments_lexer": "ipython3",
   "version": "3.10.16"
  }
 },
 "nbformat": 4,
 "nbformat_minor": 2
}
